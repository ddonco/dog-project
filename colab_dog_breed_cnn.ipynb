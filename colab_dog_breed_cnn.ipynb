{
  "nbformat": 4,
  "nbformat_minor": 0,
  "metadata": {
    "colab": {
      "name": "Copy of dog_breed_cnn.ipynb",
      "version": "0.3.2",
      "views": {},
      "default_view": {},
      "provenance": [
        {
          "file_id": "1o8Cjh_GG0SEZQee6mC7SXYVQquCWybXo",
          "timestamp": 1518040043314
        }
      ],
      "collapsed_sections": []
    },
    "kernelspec": {
      "name": "python3",
      "display_name": "Python 3"
    },
    "accelerator": "GPU"
  },
  "cells": [
    {
      "metadata": {
        "id": "Lekdhyz20-6e",
        "colab_type": "code",
        "colab": {
          "autoexec": {
            "startup": false,
            "wait_interval": 0
          },
          "output_extras": [
            {
              "item_id": 4
            }
          ],
          "base_uri": "https://localhost:8080/",
          "height": 104
        },
        "outputId": "04716b76-d435-44ff-8c45-7d016d4fa02c",
        "executionInfo": {
          "status": "ok",
          "timestamp": 1519307365968,
          "user_tz": -60,
          "elapsed": 18600,
          "user": {
            "displayName": "Dillon Donohue",
            "photoUrl": "//lh6.googleusercontent.com/-TNSLG1ukdd4/AAAAAAAAAAI/AAAAAAAAADc/_6vj77JYtXY/s50-c-k-no/photo.jpg",
            "userId": "114219743444370011970"
          }
        }
      },
      "cell_type": "code",
      "source": [
        "!apt-get install -y -qq software-properties-common python-software-properties module-init-tools\n",
        "!add-apt-repository -y ppa:alessandro-strada/ppa 2>&1 > /dev/null\n",
        "!apt-get update -qq 2>&1 > /dev/null\n",
        "!apt-get -y install -qq google-drive-ocamlfuse fuse\n",
        "from google.colab import auth\n",
        "auth.authenticate_user()\n",
        "from oauth2client.client import GoogleCredentials\n",
        "creds = GoogleCredentials.get_application_default()\n",
        "import getpass\n",
        "!google-drive-ocamlfuse -headless -id={creds.client_id} -secret={creds.client_secret} < /dev/null 2>&1 | grep URL\n",
        "vcode = getpass.getpass()\n",
        "!echo {vcode} | google-drive-ocamlfuse -headless -id={creds.client_id} -secret={creds.client_secret}"
      ],
      "execution_count": 1,
      "outputs": [
        {
          "output_type": "stream",
          "text": [
            "Please, open the following URL in a web browser: https://accounts.google.com/o/oauth2/auth?client_id=32555940559.apps.googleusercontent.com&redirect_uri=urn%3Aietf%3Awg%3Aoauth%3A2.0%3Aoob&scope=https%3A%2F%2Fwww.googleapis.com%2Fauth%2Fdrive&response_type=code&access_type=offline&approval_prompt=force\r\n",
            "··········\n",
            "Please, open the following URL in a web browser: https://accounts.google.com/o/oauth2/auth?client_id=32555940559.apps.googleusercontent.com&redirect_uri=urn%3Aietf%3Awg%3Aoauth%3A2.0%3Aoob&scope=https%3A%2F%2Fwww.googleapis.com%2Fauth%2Fdrive&response_type=code&access_type=offline&approval_prompt=force\n",
            "Please enter the verification code: Access token retrieved correctly.\n"
          ],
          "name": "stdout"
        }
      ]
    },
    {
      "metadata": {
        "id": "RrblQcym1j_F",
        "colab_type": "code",
        "colab": {
          "autoexec": {
            "startup": false,
            "wait_interval": 0
          }
        }
      },
      "cell_type": "code",
      "source": [
        "# Imported weights were generated from fitting model in Google Collaboratory notebook.\n",
        "# Mount google drive\n",
        "!mkdir -p drive\n",
        "!google-drive-ocamlfuse drive"
      ],
      "execution_count": 0,
      "outputs": []
    },
    {
      "metadata": {
        "id": "koZn-NMk1oU2",
        "colab_type": "code",
        "colab": {
          "autoexec": {
            "startup": false,
            "wait_interval": 0
          }
        }
      },
      "cell_type": "code",
      "source": [
        "import numpy as np\n",
        "import h5py\n",
        "\n",
        "def import_hdf5(file_name, dataset_name):\n",
        "  hdf5 = h5py.File('drive/Udacity/dog-project/saved_models/' + file_name + '.h5', 'r')\n",
        "  import_data = hdf5.get(dataset_name)\n",
        "  return np.array(import_data)"
      ],
      "execution_count": 0,
      "outputs": []
    },
    {
      "metadata": {
        "id": "cVJI7xT04_S8",
        "colab_type": "code",
        "colab": {
          "autoexec": {
            "startup": false,
            "wait_interval": 0
          },
          "output_extras": [
            {
              "item_id": 1
            }
          ],
          "base_uri": "https://localhost:8080/",
          "height": 67
        },
        "outputId": "63edcb1c-0e43-4813-db8e-90056af66452",
        "executionInfo": {
          "status": "ok",
          "timestamp": 1519314518483,
          "user_tz": -60,
          "elapsed": 93599,
          "user": {
            "displayName": "Dillon Donohue",
            "photoUrl": "//lh6.googleusercontent.com/-TNSLG1ukdd4/AAAAAAAAAAI/AAAAAAAAADc/_6vj77JYtXY/s50-c-k-no/photo.jpg",
            "userId": "114219743444370011970"
          }
        }
      },
      "cell_type": "code",
      "source": [
        "# Import train, validation, and test data.\n",
        "\n",
        "train_tensors = import_hdf5('train_data', 'train_tensors')\n",
        "valid_tensors = import_hdf5('valid_data', 'valid_tensors')\n",
        "test_tensors = import_hdf5('test_data', 'test_tensors')\n",
        "\n",
        "print(train_tensors.shape)\n",
        "print(valid_tensors.shape)\n",
        "print(test_tensors.shape)"
      ],
      "execution_count": 2,
      "outputs": [
        {
          "output_type": "stream",
          "text": [
            "(6680, 224, 224, 3)\n",
            "(835, 224, 224, 3)\n",
            "(836, 224, 224, 3)\n"
          ],
          "name": "stdout"
        }
      ]
    },
    {
      "metadata": {
        "id": "ijKRf6Ov5A7T",
        "colab_type": "code",
        "colab": {
          "autoexec": {
            "startup": false,
            "wait_interval": 0
          },
          "output_extras": [
            {
              "item_id": 1
            }
          ],
          "base_uri": "https://localhost:8080/",
          "height": 67
        },
        "outputId": "aee9683e-f2e2-4f33-c0e4-ddd795751939",
        "executionInfo": {
          "status": "ok",
          "timestamp": 1519314531867,
          "user_tz": -60,
          "elapsed": 3493,
          "user": {
            "displayName": "Dillon Donohue",
            "photoUrl": "//lh6.googleusercontent.com/-TNSLG1ukdd4/AAAAAAAAAAI/AAAAAAAAADc/_6vj77JYtXY/s50-c-k-no/photo.jpg",
            "userId": "114219743444370011970"
          }
        }
      },
      "cell_type": "code",
      "source": [
        "train_targets = import_hdf5('train_targets', 'y_train')\n",
        "valid_targets = import_hdf5('valid_targets', 'y_valid')\n",
        "test_targets = import_hdf5('test_targets', 'y_test')\n",
        "\n",
        "print(train_targets.shape)\n",
        "print(valid_targets.shape)\n",
        "print(test_targets.shape)\n",
        "#print(valid_targets[:5])"
      ],
      "execution_count": 3,
      "outputs": [
        {
          "output_type": "stream",
          "text": [
            "(6680, 133)\n",
            "(835, 133)\n",
            "(836, 133)\n"
          ],
          "name": "stdout"
        }
      ]
    },
    {
      "metadata": {
        "id": "7TofIPqu7iyV",
        "colab_type": "code",
        "colab": {
          "autoexec": {
            "startup": false,
            "wait_interval": 0
          }
        }
      },
      "cell_type": "code",
      "source": [
        "train_targets = train_targets.astype(int)\n",
        "valid_targets = valid_targets.astype(int)\n",
        "test_targets = test_targets.astype(int)"
      ],
      "execution_count": 0,
      "outputs": []
    },
    {
      "metadata": {
        "id": "WRizCtf-5Kqq",
        "colab_type": "code",
        "colab": {
          "autoexec": {
            "startup": false,
            "wait_interval": 0
          },
          "output_extras": [
            {
              "item_id": 1
            },
            {
              "item_id": 2
            }
          ],
          "base_uri": "https://localhost:8080/",
          "height": 420
        },
        "outputId": "97afdf1b-c8d1-4079-f7ee-1e1a5b74df86",
        "executionInfo": {
          "status": "ok",
          "timestamp": 1519314544133,
          "user_tz": -60,
          "elapsed": 4935,
          "user": {
            "displayName": "Dillon Donohue",
            "photoUrl": "//lh6.googleusercontent.com/-TNSLG1ukdd4/AAAAAAAAAAI/AAAAAAAAADc/_6vj77JYtXY/s50-c-k-no/photo.jpg",
            "userId": "114219743444370011970"
          }
        }
      },
      "cell_type": "code",
      "source": [
        "# Build model architecture\n",
        "\n",
        "!pip install -q keras\n",
        "\n",
        "import keras\n",
        "from keras.layers import Input\n",
        "from keras.layers import Conv2D, MaxPooling2D, GlobalAveragePooling2D\n",
        "from keras.layers import Dropout, Flatten, Dense\n",
        "from keras.models import Sequential, Model\n",
        "\n",
        "model = Sequential()\n",
        "model.add(Conv2D(input_shape=train_tensors.shape[1:], kernel_size=3, filters=32, strides=1, activation='relu'))\n",
        "model.add(Conv2D(kernel_size=3, filters=32, strides=1, activation='relu'))\n",
        "model.add(Conv2D(kernel_size=3, filters=32, strides=1, activation='relu'))\n",
        "model.add(MaxPooling2D())\n",
        "\n",
        "model.add(Conv2D(kernel_size=3, filters=64, strides=1, activation='relu'))\n",
        "model.add(Conv2D(kernel_size=3, filters=64, strides=1, activation='relu'))\n",
        "\n",
        "# Classification block\n",
        "model.add(GlobalAveragePooling2D())\n",
        "model.add(Dense(133, activation='softmax', name='predictions'))   \n",
        "  \n",
        "model.summary()"
      ],
      "execution_count": 5,
      "outputs": [
        {
          "output_type": "stream",
          "text": [
            "Using TensorFlow backend.\n"
          ],
          "name": "stderr"
        },
        {
          "output_type": "stream",
          "text": [
            "_________________________________________________________________\n",
            "Layer (type)                 Output Shape              Param #   \n",
            "=================================================================\n",
            "conv2d_1 (Conv2D)            (None, 222, 222, 32)      896       \n",
            "_________________________________________________________________\n",
            "conv2d_2 (Conv2D)            (None, 220, 220, 32)      9248      \n",
            "_________________________________________________________________\n",
            "conv2d_3 (Conv2D)            (None, 218, 218, 32)      9248      \n",
            "_________________________________________________________________\n",
            "max_pooling2d_1 (MaxPooling2 (None, 109, 109, 32)      0         \n",
            "_________________________________________________________________\n",
            "conv2d_4 (Conv2D)            (None, 107, 107, 64)      18496     \n",
            "_________________________________________________________________\n",
            "conv2d_5 (Conv2D)            (None, 105, 105, 64)      36928     \n",
            "_________________________________________________________________\n",
            "global_average_pooling2d_1 ( (None, 64)                0         \n",
            "_________________________________________________________________\n",
            "predictions (Dense)          (None, 133)               8645      \n",
            "=================================================================\n",
            "Total params: 83,461\n",
            "Trainable params: 83,461\n",
            "Non-trainable params: 0\n",
            "_________________________________________________________________\n"
          ],
          "name": "stdout"
        }
      ]
    },
    {
      "metadata": {
        "id": "gR-kxUo_5QXn",
        "colab_type": "code",
        "colab": {
          "autoexec": {
            "startup": false,
            "wait_interval": 0
          }
        }
      },
      "cell_type": "code",
      "source": [
        "model.compile(optimizer='rmsprop', loss='categorical_crossentropy', metrics=['accuracy'])"
      ],
      "execution_count": 0,
      "outputs": []
    },
    {
      "metadata": {
        "id": "H-qSLPrj5RBX",
        "colab_type": "code",
        "colab": {
          "autoexec": {
            "startup": false,
            "wait_interval": 0
          },
          "output_extras": [
            {
              "item_id": 335
            },
            {
              "item_id": 485
            },
            {
              "item_id": 613
            },
            {
              "item_id": 855
            },
            {
              "item_id": 1022
            },
            {
              "item_id": 1154
            },
            {
              "item_id": 1274
            },
            {
              "item_id": 1299
            },
            {
              "item_id": 1300
            }
          ],
          "base_uri": "https://localhost:8080/",
          "height": 743
        },
        "outputId": "eb1637e3-7132-484c-f7aa-91b2e7bb303c",
        "executionInfo": {
          "status": "ok",
          "timestamp": 1519315420852,
          "user_tz": -60,
          "elapsed": 869351,
          "user": {
            "displayName": "Dillon Donohue",
            "photoUrl": "//lh6.googleusercontent.com/-TNSLG1ukdd4/AAAAAAAAAAI/AAAAAAAAADc/_6vj77JYtXY/s50-c-k-no/photo.jpg",
            "userId": "114219743444370011970"
          }
        }
      },
      "cell_type": "code",
      "source": [
        "from keras.callbacks import ModelCheckpoint  \n",
        "\n",
        "### TODO: specify the number of epochs that you would like to use to train the model.\n",
        "\n",
        "epochs = 10\n",
        "\n",
        "### Do NOT modify the code below this line.\n",
        "\n",
        "checkpointer = ModelCheckpoint(filepath='drive/Udacity/dog-project/saved_models/weights.best.from_scratch.hdf5', \n",
        "                               verbose=1, save_best_only=True)\n",
        "\n",
        "model.fit(train_tensors, train_targets, \n",
        "          validation_data=(valid_tensors, valid_targets),\n",
        "          epochs=epochs, batch_size=20, callbacks=[checkpointer], verbose=1)"
      ],
      "execution_count": 7,
      "outputs": [
        {
          "output_type": "stream",
          "text": [
            "Train on 6680 samples, validate on 835 samples\n",
            "Epoch 1/10\n",
            "6680/6680 [==============================] - 90s 13ms/step - loss: 4.8856 - acc: 0.0084 - val_loss: 4.8650 - val_acc: 0.0168\n",
            "\n",
            "Epoch 00001: val_loss improved from inf to 4.86499, saving model to drive/Udacity/dog-project/saved_models/weights.best.from_scratch.hdf5\n",
            "Epoch 2/10\n",
            "2500/6680 [==========>...................] - ETA: 51s - loss: 4.8514 - acc: 0.0184"
          ],
          "name": "stdout"
        },
        {
          "output_type": "stream",
          "text": [
            "6680/6680 [==============================] - 86s 13ms/step - loss: 4.8416 - acc: 0.0174 - val_loss: 4.8128 - val_acc: 0.0192\n",
            "\n",
            "Epoch 00002: val_loss improved from 4.86499 to 4.81282, saving model to drive/Udacity/dog-project/saved_models/weights.best.from_scratch.hdf5\n",
            "Epoch 3/10\n",
            "4520/6680 [===================>..........] - ETA: 26s - loss: 4.7944 - acc: 0.0170"
          ],
          "name": "stdout"
        },
        {
          "output_type": "stream",
          "text": [
            "6680/6680 [==============================] - 86s 13ms/step - loss: 4.7921 - acc: 0.0171 - val_loss: 4.8244 - val_acc: 0.0156\n",
            "\n",
            "Epoch 00003: val_loss did not improve\n",
            "Epoch 4/10\n",
            "6680/6680 [==============================] - 85s 13ms/step - loss: 4.7549 - acc: 0.0190 - val_loss: 4.7429 - val_acc: 0.0168\n",
            "\n",
            "Epoch 00004: val_loss improved from 4.81282 to 4.74290, saving model to drive/Udacity/dog-project/saved_models/weights.best.from_scratch.hdf5\n",
            "Epoch 5/10\n",
            " 140/6680 [..............................] - ETA: 1:19 - loss: 4.7268 - acc: 0.0143"
          ],
          "name": "stdout"
        },
        {
          "output_type": "stream",
          "text": [
            "6680/6680 [==============================] - 86s 13ms/step - loss: 4.7033 - acc: 0.0238 - val_loss: 4.7122 - val_acc: 0.0311\n",
            "\n",
            "Epoch 00005: val_loss improved from 4.74290 to 4.71225, saving model to drive/Udacity/dog-project/saved_models/weights.best.from_scratch.hdf5\n",
            "Epoch 6/10\n",
            "4000/6680 [================>.............] - ETA: 32s - loss: 4.6545 - acc: 0.0290"
          ],
          "name": "stdout"
        },
        {
          "output_type": "stream",
          "text": [
            "6680/6680 [==============================] - 86s 13ms/step - loss: 4.6545 - acc: 0.0298 - val_loss: 4.7181 - val_acc: 0.0311\n",
            "\n",
            "Epoch 00006: val_loss did not improve\n",
            "Epoch 7/10\n",
            "6680/6680 [==============================] - 86s 13ms/step - loss: 4.6027 - acc: 0.0353 - val_loss: 4.6120 - val_acc: 0.0359\n",
            "\n",
            "Epoch 00007: val_loss improved from 4.71225 to 4.61197, saving model to drive/Udacity/dog-project/saved_models/weights.best.from_scratch.hdf5\n",
            "Epoch 8/10\n",
            "  60/6680 [..............................] - ETA: 1:21 - loss: 4.5722 - acc: 0.0333"
          ],
          "name": "stdout"
        },
        {
          "output_type": "stream",
          "text": [
            "6680/6680 [==============================] - 86s 13ms/step - loss: 4.5489 - acc: 0.0440 - val_loss: 4.5646 - val_acc: 0.0407\n",
            "\n",
            "Epoch 00008: val_loss improved from 4.61197 to 4.56458, saving model to drive/Udacity/dog-project/saved_models/weights.best.from_scratch.hdf5\n",
            "Epoch 9/10\n",
            "3980/6680 [================>.............] - ETA: 33s - loss: 4.5201 - acc: 0.0508"
          ],
          "name": "stdout"
        },
        {
          "output_type": "stream",
          "text": [
            "6680/6680 [==============================] - 86s 13ms/step - loss: 4.5095 - acc: 0.0507 - val_loss: 4.5410 - val_acc: 0.0431\n",
            "\n",
            "Epoch 00009: val_loss improved from 4.56458 to 4.54097, saving model to drive/Udacity/dog-project/saved_models/weights.best.from_scratch.hdf5\n",
            "Epoch 10/10\n",
            "4860/6680 [====================>.........] - ETA: 22s - loss: 4.4544 - acc: 0.0521"
          ],
          "name": "stdout"
        },
        {
          "output_type": "stream",
          "text": [
            "6680/6680 [==============================] - 86s 13ms/step - loss: 4.4528 - acc: 0.0497 - val_loss: 4.5559 - val_acc: 0.0419\n",
            "\n",
            "Epoch 00010: val_loss did not improve\n"
          ],
          "name": "stdout"
        },
        {
          "output_type": "execute_result",
          "data": {
            "text/plain": [
              "<keras.callbacks.History at 0x7fbba283ddd8>"
            ]
          },
          "metadata": {
            "tags": []
          },
          "execution_count": 7
        }
      ]
    },
    {
      "metadata": {
        "id": "n781-FBi5XWJ",
        "colab_type": "code",
        "colab": {
          "autoexec": {
            "startup": false,
            "wait_interval": 0
          }
        }
      },
      "cell_type": "code",
      "source": [
        "model.load_weights('drive/Udacity/dog-project/saved_models/weights.best.from_scratch.hdf5')"
      ],
      "execution_count": 0,
      "outputs": []
    },
    {
      "metadata": {
        "id": "bQ0x3z_65av2",
        "colab_type": "code",
        "colab": {
          "autoexec": {
            "startup": false,
            "wait_interval": 0
          },
          "output_extras": [
            {
              "item_id": 1
            }
          ],
          "base_uri": "https://localhost:8080/",
          "height": 34
        },
        "outputId": "7c188d23-87c7-4c0d-ba1f-e472906e0f28",
        "executionInfo": {
          "status": "ok",
          "timestamp": 1519315438377,
          "user_tz": -60,
          "elapsed": 5378,
          "user": {
            "displayName": "Dillon Donohue",
            "photoUrl": "//lh6.googleusercontent.com/-TNSLG1ukdd4/AAAAAAAAAAI/AAAAAAAAADc/_6vj77JYtXY/s50-c-k-no/photo.jpg",
            "userId": "114219743444370011970"
          }
        }
      },
      "cell_type": "code",
      "source": [
        "# get index of predicted dog breed for each image in test set\n",
        "dog_breed_predictions = [np.argmax(model.predict(np.expand_dims(tensor, axis=0))) for tensor in test_tensors]\n",
        "\n",
        "# report test accuracy\n",
        "test_accuracy = 100*np.sum(np.array(dog_breed_predictions)==np.argmax(test_targets, axis=1))/len(dog_breed_predictions)\n",
        "print('Test accuracy: %.4f%%' % test_accuracy)"
      ],
      "execution_count": 9,
      "outputs": [
        {
          "output_type": "stream",
          "text": [
            "Test accuracy: 4.4258%\n"
          ],
          "name": "stdout"
        }
      ]
    }
  ]
}