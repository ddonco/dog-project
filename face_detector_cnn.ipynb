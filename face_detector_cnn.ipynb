{
 "cells": [
  {
   "cell_type": "code",
   "execution_count": 1,
   "metadata": {
    "scrolled": false
   },
   "outputs": [
    {
     "name": "stderr",
     "output_type": "stream",
     "text": [
      "/home/ddonohue/anaconda3/envs/tensorflow/lib/python3.6/site-packages/h5py/__init__.py:34: FutureWarning: Conversion of the second argument of issubdtype from `float` to `np.floating` is deprecated. In future, it will be treated as `np.float64 == np.dtype(float).type`.\n",
      "  from ._conv import register_converters as _register_converters\n",
      "Using TensorFlow backend.\n"
     ]
    },
    {
     "name": "stdout",
     "output_type": "stream",
     "text": [
      "The are 21584 images sourced from the human and dog image data sets.\n"
     ]
    },
    {
     "data": {
      "text/html": [
       "<div>\n",
       "<style>\n",
       "    .dataframe thead tr:only-child th {\n",
       "        text-align: right;\n",
       "    }\n",
       "\n",
       "    .dataframe thead th {\n",
       "        text-align: left;\n",
       "    }\n",
       "\n",
       "    .dataframe tbody tr th {\n",
       "        vertical-align: top;\n",
       "    }\n",
       "</style>\n",
       "<table border=\"1\" class=\"dataframe\">\n",
       "  <thead>\n",
       "    <tr style=\"text-align: right;\">\n",
       "      <th></th>\n",
       "      <th>dog</th>\n",
       "      <th>human</th>\n",
       "      <th>file</th>\n",
       "    </tr>\n",
       "  </thead>\n",
       "  <tbody>\n",
       "    <tr>\n",
       "      <th>0</th>\n",
       "      <td>1</td>\n",
       "      <td>0</td>\n",
       "      <td>face_detector_images/dog/Anatolian_shepherd_do...</td>\n",
       "    </tr>\n",
       "    <tr>\n",
       "      <th>1</th>\n",
       "      <td>0</td>\n",
       "      <td>1</td>\n",
       "      <td>face_detector_images/human/Robert_Bullock_0002...</td>\n",
       "    </tr>\n",
       "    <tr>\n",
       "      <th>2</th>\n",
       "      <td>1</td>\n",
       "      <td>0</td>\n",
       "      <td>face_detector_images/dog/Belgian_tervuren_0156...</td>\n",
       "    </tr>\n",
       "    <tr>\n",
       "      <th>3</th>\n",
       "      <td>0</td>\n",
       "      <td>1</td>\n",
       "      <td>face_detector_images/human/Sharon_Stone_0002.jpg</td>\n",
       "    </tr>\n",
       "    <tr>\n",
       "      <th>4</th>\n",
       "      <td>0</td>\n",
       "      <td>1</td>\n",
       "      <td>face_detector_images/human/Jean_Chretien_0033.jpg</td>\n",
       "    </tr>\n",
       "  </tbody>\n",
       "</table>\n",
       "</div>"
      ],
      "text/plain": [
       "   dog  human                                               file\n",
       "0    1      0  face_detector_images/dog/Anatolian_shepherd_do...\n",
       "1    0      1  face_detector_images/human/Robert_Bullock_0002...\n",
       "2    1      0  face_detector_images/dog/Belgian_tervuren_0156...\n",
       "3    0      1   face_detector_images/human/Sharon_Stone_0002.jpg\n",
       "4    0      1  face_detector_images/human/Jean_Chretien_0033.jpg"
      ]
     },
     "execution_count": 1,
     "metadata": {},
     "output_type": "execute_result"
    }
   ],
   "source": [
    "from sklearn.datasets import load_files\n",
    "from sklearn.model_selection import train_test_split\n",
    "from keras.utils import np_utils\n",
    "import numpy as np\n",
    "import pandas as pd\n",
    "from glob import glob\n",
    "\n",
    "# define function to load train, test, and validation datasets\n",
    "def load_dataset(path):\n",
    "    data = load_files(path)\n",
    "    files = np.array(data['filenames'])\n",
    "    targets = np_utils.to_categorical(np.array(data['target']))\n",
    "    return files, targets\n",
    "\n",
    "files, targets = load_dataset('face_detector_images')\n",
    "targets = targets.astype(int)\n",
    "df = pd.DataFrame(targets, columns=['dog', 'human'])\n",
    "df['file'] = pd.DataFrame(files)\n",
    "df.to_pickle(\"saved_models/face_detector_images.pkl\")\n",
    "\n",
    "# print statistics about the dataset\n",
    "print('The are %d images sourced from the human and dog image data sets.' % len(files))\n",
    "\n",
    "df.head(5)"
   ]
  },
  {
   "cell_type": "code",
   "execution_count": 2,
   "metadata": {},
   "outputs": [
    {
     "name": "stdout",
     "output_type": "stream",
     "text": [
      "There are a total 17268 images available for training.\n",
      "There are a total 2157 images available for validation.\n",
      "There are a total 2159 images available for testing.\n",
      "8600 images will be used for training.\n",
      "1080 images will be used for validation.\n",
      "1080 images will be used for testing.\n"
     ]
    }
   ],
   "source": [
    "# shuffle and split data into training and testing sets\n",
    "X_train_valid, X_test, y_train_valid, y_test = train_test_split(df['file'], df.drop(['file'], axis=1), test_size=0.1, shuffle=True, random_state=7)\n",
    "#X_train, X_test, y_train, y_test = train_test_split(df['file'], df['human'], test_size=0.1, shuffle=True, random_state=7)\n",
    "\n",
    "# shuffle and split training data into training and validation sets\n",
    "X_train, X_valid, y_train, y_valid = train_test_split(X_train_valid, y_train_valid, test_size=0.111, shuffle=True, random_state=5)\n",
    "#X_train, X_valid, y_train, y_valid = train_test_split(X_train, y_train, test_size=0.111, shuffle=True, random_state=5)\n",
    "\n",
    "# print statistics about the dataset\n",
    "print('There are a total %d images available for training.' % len(X_train))\n",
    "print('There are a total %d images available for validation.' % len(X_valid))\n",
    "print('There are a total %d images available for testing.' % len(X_test))\n",
    "\n",
    "X_train = X_train[:8600]\n",
    "y_train = y_train[:8600]\n",
    "X_valid = X_valid[:1080]\n",
    "y_valid = y_valid[:1080]\n",
    "X_test = X_test[:1080]\n",
    "y_test = y_test[:1080]\n",
    "\n",
    "# I will be using about half of the training, validation, and testing sets after learning that my CPU and RAM \n",
    "# can't handle that much data\n",
    "print('%d images will be used for training.' % len(X_train))\n",
    "print('%d images will be used for validation.' % len(X_valid))\n",
    "print('%d images will be used for testing.' % len(X_test))"
   ]
  },
  {
   "cell_type": "code",
   "execution_count": 3,
   "metadata": {},
   "outputs": [
    {
     "name": "stderr",
     "output_type": "stream",
     "text": [
      "100%|██████████| 8600/8600 [00:33<00:00, 256.98it/s]\n",
      "100%|██████████| 1080/1080 [00:04<00:00, 230.26it/s]\n",
      "100%|██████████| 1080/1080 [00:05<00:00, 203.90it/s]\n"
     ]
    }
   ],
   "source": [
    "# Preprocessing of images before feeding into tensorflow CNN.\n",
    "\n",
    "from keras.preprocessing import image                  \n",
    "from tqdm import tqdm\n",
    "\n",
    "def path_to_tensor(img_path):\n",
    "    # loads RGB image as PIL.Image.Image type\n",
    "    img = image.load_img(img_path, target_size=(224, 224))\n",
    "    # convert PIL.Image.Image type to 3D tensor with shape (224, 224, 3)\n",
    "    x = image.img_to_array(img)\n",
    "    # convert 3D tensor to 4D tensor with shape (1, 224, 224, 3) and return 4D tensor\n",
    "    return np.expand_dims(x, axis=0)\n",
    "\n",
    "def paths_to_tensor(img_paths):\n",
    "    list_of_tensors = [path_to_tensor(img_path) for img_path in tqdm(img_paths)]\n",
    "    return np.vstack(list_of_tensors)\n",
    "\n",
    "from PIL import ImageFile                            \n",
    "ImageFile.LOAD_TRUNCATED_IMAGES = True                 \n",
    "\n",
    "# pre-process the data for Keras\n",
    "train_tensors = paths_to_tensor(X_train).astype('float32')/255\n",
    "valid_tensors = paths_to_tensor(X_valid).astype('float32')/255\n",
    "test_tensors = paths_to_tensor(X_test).astype('float32')/255"
   ]
  },
  {
   "cell_type": "code",
   "execution_count": 4,
   "metadata": {
    "collapsed": true
   },
   "outputs": [],
   "source": [
    "# Training, validation, and testing data have been exported to train model using Google Collaboratory notebook\n",
    "# and take advantage of accelerated model fitting from cloud GPU.\n",
    "\n",
    "import h5py\n",
    "\n",
    "export_data = False\n",
    "if export_data:\n",
    "    h5f_xTrain = h5py.File('saved_models/train_tensors.h5', 'w')\n",
    "    h5f_xTrain.create_dataset('train_tensors', data=train_tensors)\n",
    "    h5f_xTrain.close()\n",
    "\n",
    "    h5f_xValid = h5py.File('saved_models/valid_tensors.h5', 'w')\n",
    "    h5f_xValid.create_dataset('valid_tensors', data=valid_tensors)\n",
    "    h5f_xValid.close()\n",
    "\n",
    "    h5f_xTest = h5py.File('saved_models/test_tensors.h5', 'w')\n",
    "    h5f_xTest.create_dataset('test_tensors', data=test_tensors)\n",
    "    h5f_xTest.close()\n",
    "\n",
    "export_labels = False\n",
    "if export_labels:\n",
    "    h5f_yTrain = h5py.File('saved_models/y_train.h5', 'w')\n",
    "    h5f_yTrain.create_dataset('y_train', data=y_train)\n",
    "    h5f_yTrain.close()\n",
    "\n",
    "    h5f_yValid = h5py.File('saved_models/y_valid.h5', 'w')\n",
    "    h5f_yValid.create_dataset('y_valid', data=y_valid)\n",
    "    h5f_yValid.close()\n",
    "\n",
    "    h5f_yTest = h5py.File('saved_models/y_test.h5', 'w')\n",
    "    h5f_yTest.create_dataset('y_test', data=y_test)\n",
    "    h5f_yTest.close()"
   ]
  },
  {
   "cell_type": "code",
   "execution_count": 5,
   "metadata": {
    "scrolled": false
   },
   "outputs": [
    {
     "name": "stdout",
     "output_type": "stream",
     "text": [
      "_________________________________________________________________\n",
      "Layer (type)                 Output Shape              Param #   \n",
      "=================================================================\n",
      "conv2d_1 (Conv2D)            (None, 224, 224, 32)      896       \n",
      "_________________________________________________________________\n",
      "max_pooling2d_1 (MaxPooling2 (None, 112, 112, 32)      0         \n",
      "_________________________________________________________________\n",
      "conv2d_2 (Conv2D)            (None, 112, 112, 32)      9248      \n",
      "_________________________________________________________________\n",
      "max_pooling2d_2 (MaxPooling2 (None, 56, 56, 32)        0         \n",
      "_________________________________________________________________\n",
      "conv2d_3 (Conv2D)            (None, 56, 56, 64)        18496     \n",
      "_________________________________________________________________\n",
      "max_pooling2d_3 (MaxPooling2 (None, 28, 28, 64)        0         \n",
      "_________________________________________________________________\n",
      "dropout_1 (Dropout)          (None, 28, 28, 64)        0         \n",
      "_________________________________________________________________\n",
      "flatten_1 (Flatten)          (None, 50176)             0         \n",
      "_________________________________________________________________\n",
      "dense_1 (Dense)              (None, 64)                3211328   \n",
      "_________________________________________________________________\n",
      "dropout_2 (Dropout)          (None, 64)                0         \n",
      "_________________________________________________________________\n",
      "dense_2 (Dense)              (None, 2)                 130       \n",
      "=================================================================\n",
      "Total params: 3,240,098\n",
      "Trainable params: 3,240,098\n",
      "Non-trainable params: 0\n",
      "_________________________________________________________________\n"
     ]
    }
   ],
   "source": [
    "# Build CNN architecture.\n",
    "# Architecture is adapted from CNN found here: https://blog.keras.io/building-powerful-image-classification-models-using-very-little-data.html\n",
    "\n",
    "from keras.layers import Conv2D, MaxPooling2D, GlobalAveragePooling2D\n",
    "from keras.layers import Dropout, Flatten, Dense\n",
    "from keras.models import Sequential\n",
    "\n",
    "model = Sequential()\n",
    "\n",
    "model = Sequential()\n",
    "model.add(Conv2D(32, (3, 3), padding='same', activation='relu', input_shape=(224, 224, 3)))\n",
    "model.add(MaxPooling2D(pool_size=(2, 2)))\n",
    "\n",
    "model.add(Conv2D(32, (3, 3), padding='same', activation='relu'))\n",
    "model.add(MaxPooling2D(pool_size=(2, 2)))\n",
    "\n",
    "model.add(Conv2D(64, (3, 3), padding='same', activation='relu'))\n",
    "model.add(MaxPooling2D(pool_size=(2, 2)))\n",
    "model.add(Dropout(0.5))\n",
    "\n",
    "model.add(Flatten())\n",
    "model.add(Dense(64, activation='relu'))\n",
    "model.add(Dropout(0.5))\n",
    "model.add(Dense(2, activation='sigmoid'))\n",
    "\n",
    "model.summary()"
   ]
  },
  {
   "cell_type": "code",
   "execution_count": 6,
   "metadata": {
    "collapsed": true
   },
   "outputs": [],
   "source": [
    "# Compile the model\n",
    "\n",
    "model.compile(loss='categorical_crossentropy', optimizer='rmsprop', \n",
    "                  metrics=['accuracy'])"
   ]
  },
  {
   "cell_type": "code",
   "execution_count": 15,
   "metadata": {},
   "outputs": [
    {
     "name": "stdout",
     "output_type": "stream",
     "text": [
      "Train on 8600 samples, validate on 1080 samples\n",
      "Epoch 1/1\n",
      "\n",
      "Epoch 00001: val_loss improved from inf to 0.08208, saving model to saved_models/weights.best.face_detector.hdf5\n",
      " - 665s - loss: 0.4446 - acc: 0.8014 - val_loss: 0.0821 - val_acc: 0.9778\n"
     ]
    },
    {
     "data": {
      "text/plain": [
       "<keras.callbacks.History at 0x7f673c606f28>"
      ]
     },
     "execution_count": 15,
     "metadata": {},
     "output_type": "execute_result"
    }
   ],
   "source": [
    "# Train the model\n",
    "# Model fitting was performed in Google Collaboratory notebook for speed improvements.\n",
    "\n",
    "from keras.callbacks import ModelCheckpoint   \n",
    "\n",
    "\n",
    "checkpointer = ModelCheckpoint(filepath='saved_models/weights.best.face_detector.hdf5', verbose=1, \n",
    "                               save_best_only=True)\n",
    "model.fit(train_tensors, y_train, batch_size=100, epochs=1,\n",
    "          validation_data=(valid_tensors, y_valid), callbacks=[checkpointer], \n",
    "          verbose=2, shuffle=True)"
   ]
  },
  {
   "cell_type": "code",
   "execution_count": 7,
   "metadata": {
    "collapsed": true
   },
   "outputs": [],
   "source": [
    "# Load the weights that yielded the best validation accuracy\n",
    "\n",
    "model.load_weights('saved_models/weights.best.face_detector.hdf5')"
   ]
  },
  {
   "cell_type": "code",
   "execution_count": 8,
   "metadata": {},
   "outputs": [
    {
     "name": "stdout",
     "output_type": "stream",
     "text": [
      "\n",
      " Test accuracy: 0.9990740740740741\n"
     ]
    }
   ],
   "source": [
    "# Evaluate and print test accuracy\n",
    "\n",
    "score = model.evaluate(test_tensors, y_test, verbose=0)\n",
    "print('\\n', 'Test accuracy:', score[1])"
   ]
  }
 ],
 "metadata": {
  "kernelspec": {
   "display_name": "Python 3",
   "language": "python",
   "name": "python3"
  },
  "language_info": {
   "codemirror_mode": {
    "name": "ipython",
    "version": 3
   },
   "file_extension": ".py",
   "mimetype": "text/x-python",
   "name": "python",
   "nbconvert_exporter": "python",
   "pygments_lexer": "ipython3",
   "version": "3.6.3"
  }
 },
 "nbformat": 4,
 "nbformat_minor": 2
}
